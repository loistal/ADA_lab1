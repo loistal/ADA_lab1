{
 "cells": [
  {
   "cell_type": "markdown",
   "metadata": {
    "collapsed": true
   },
   "source": [
    "# Grant Money Interactive Visualization in Switzerland\n",
    "\n",
    "## Assignment\n",
    "Build a Choropleth map which shows intuitively (i.e., use colors wisely) how much grant money goes to each Swiss canton. To do so, you will need to use the provided TopoJSON file, combined with the Choropleth map example you can find in the Folium README file. Click [here](https://github.com/ADAEPFL/Homework/tree/master/03%20-%20Interactive%20Viz) for more details."
   ]
  },
  {
   "cell_type": "markdown",
   "metadata": {},
   "source": [
    "## Data Processing\n",
    "First we will need to work on the provided data from [P3](http://p3.snf.ch/Pages/DataAndDocumentation.aspx). \n",
    "\n",
    "The goal is to extract the amount of money granted to each Swiss canton. We will need to map each project with a canton, in order to provide well formated data to [Folium](https://github.com/python-visualization/folium), the tool which we will use to create the final visualization.\n",
    "\n",
    "We will also use Folium during the data processing pipeline in order to check the validity of the information extracted, essentially to check if the extracted location is actually in Switzerland. "
   ]
  },
  {
   "cell_type": "code",
   "execution_count": 158,
   "metadata": {
    "collapsed": true
   },
   "outputs": [],
   "source": [
    "# Import some useful modules\n",
    "import pandas as pd\n",
    "import folium as fl\n",
    "import requests as rq\n",
    "import numpy as np\n",
    "import json"
   ]
  },
  {
   "cell_type": "markdown",
   "metadata": {},
   "source": [
    "Let's see what does the data look like : "
   ]
  },
  {
   "cell_type": "code",
   "execution_count": 159,
   "metadata": {
    "collapsed": false
   },
   "outputs": [
    {
     "data": {
      "text/html": [
       "<div>\n",
       "<table border=\"1\" class=\"dataframe\">\n",
       "  <thead>\n",
       "    <tr style=\"text-align: right;\">\n",
       "      <th></th>\n",
       "      <th>﻿\"Project Number\"</th>\n",
       "      <th>Project Title</th>\n",
       "      <th>Project Title English</th>\n",
       "      <th>Responsible Applicant</th>\n",
       "      <th>Funding Instrument</th>\n",
       "      <th>Funding Instrument Hierarchy</th>\n",
       "      <th>Institution</th>\n",
       "      <th>University</th>\n",
       "      <th>Discipline Number</th>\n",
       "      <th>Discipline Name</th>\n",
       "      <th>Discipline Name Hierarchy</th>\n",
       "      <th>Start Date</th>\n",
       "      <th>End Date</th>\n",
       "      <th>Approved Amount</th>\n",
       "      <th>Keywords</th>\n",
       "    </tr>\n",
       "  </thead>\n",
       "  <tbody>\n",
       "    <tr>\n",
       "      <th>0</th>\n",
       "      <td>1</td>\n",
       "      <td>Schlussband (Bd. VI) der Jacob Burckhardt-Biog...</td>\n",
       "      <td>NaN</td>\n",
       "      <td>Kaegi Werner</td>\n",
       "      <td>Project funding (Div. I-III)</td>\n",
       "      <td>Project funding</td>\n",
       "      <td>NaN</td>\n",
       "      <td>Nicht zuteilbar - NA</td>\n",
       "      <td>10302</td>\n",
       "      <td>Swiss history</td>\n",
       "      <td>Human and Social Sciences;Theology &amp; religious...</td>\n",
       "      <td>01.10.1975</td>\n",
       "      <td>30.09.1976</td>\n",
       "      <td>11619.00</td>\n",
       "      <td>NaN</td>\n",
       "    </tr>\n",
       "    <tr>\n",
       "      <th>1</th>\n",
       "      <td>4</td>\n",
       "      <td>Batterie de tests à l'usage des enseignants po...</td>\n",
       "      <td>NaN</td>\n",
       "      <td>Massarenti Léonard</td>\n",
       "      <td>Project funding (Div. I-III)</td>\n",
       "      <td>Project funding</td>\n",
       "      <td>Faculté de Psychologie et des Sciences de l'Ed...</td>\n",
       "      <td>Université de Genève - GE</td>\n",
       "      <td>10104</td>\n",
       "      <td>Educational science and Pedagogy</td>\n",
       "      <td>Human and Social Sciences;Psychology, educatio...</td>\n",
       "      <td>01.10.1975</td>\n",
       "      <td>30.09.1976</td>\n",
       "      <td>41022.00</td>\n",
       "      <td>NaN</td>\n",
       "    </tr>\n",
       "    <tr>\n",
       "      <th>2</th>\n",
       "      <td>5</td>\n",
       "      <td>Kritische Erstausgabe der \"Evidentiae contra D...</td>\n",
       "      <td>NaN</td>\n",
       "      <td>Kommission für das Corpus philosophorum medii ...</td>\n",
       "      <td>Project funding (Div. I-III)</td>\n",
       "      <td>Project funding</td>\n",
       "      <td>Kommission für das Corpus philosophorum medii ...</td>\n",
       "      <td>NPO (Biblioth., Museen, Verwalt.) - NPO</td>\n",
       "      <td>10101</td>\n",
       "      <td>Philosophy</td>\n",
       "      <td>Human and Social Sciences;Linguistics and lite...</td>\n",
       "      <td>01.03.1976</td>\n",
       "      <td>28.02.1985</td>\n",
       "      <td>79732.00</td>\n",
       "      <td>NaN</td>\n",
       "    </tr>\n",
       "  </tbody>\n",
       "</table>\n",
       "</div>"
      ],
      "text/plain": [
       "   ﻿\"Project Number\"                                      Project Title  \\\n",
       "0                  1  Schlussband (Bd. VI) der Jacob Burckhardt-Biog...   \n",
       "1                  4  Batterie de tests à l'usage des enseignants po...   \n",
       "2                  5  Kritische Erstausgabe der \"Evidentiae contra D...   \n",
       "\n",
       "  Project Title English                              Responsible Applicant  \\\n",
       "0                   NaN                                       Kaegi Werner   \n",
       "1                   NaN                                 Massarenti Léonard   \n",
       "2                   NaN  Kommission für das Corpus philosophorum medii ...   \n",
       "\n",
       "             Funding Instrument Funding Instrument Hierarchy  \\\n",
       "0  Project funding (Div. I-III)              Project funding   \n",
       "1  Project funding (Div. I-III)              Project funding   \n",
       "2  Project funding (Div. I-III)              Project funding   \n",
       "\n",
       "                                         Institution  \\\n",
       "0                                                NaN   \n",
       "1  Faculté de Psychologie et des Sciences de l'Ed...   \n",
       "2  Kommission für das Corpus philosophorum medii ...   \n",
       "\n",
       "                                University  Discipline Number  \\\n",
       "0                     Nicht zuteilbar - NA              10302   \n",
       "1                Université de Genève - GE              10104   \n",
       "2  NPO (Biblioth., Museen, Verwalt.) - NPO              10101   \n",
       "\n",
       "                    Discipline Name  \\\n",
       "0                     Swiss history   \n",
       "1  Educational science and Pedagogy   \n",
       "2                        Philosophy   \n",
       "\n",
       "                           Discipline Name Hierarchy  Start Date    End Date  \\\n",
       "0  Human and Social Sciences;Theology & religious...  01.10.1975  30.09.1976   \n",
       "1  Human and Social Sciences;Psychology, educatio...  01.10.1975  30.09.1976   \n",
       "2  Human and Social Sciences;Linguistics and lite...  01.03.1976  28.02.1985   \n",
       "\n",
       "  Approved Amount Keywords  \n",
       "0        11619.00      NaN  \n",
       "1        41022.00      NaN  \n",
       "2        79732.00      NaN  "
      ]
     },
     "execution_count": 159,
     "metadata": {},
     "output_type": "execute_result"
    }
   ],
   "source": [
    "# Import the data as panda DataFrame\n",
    "projects = pd.read_csv('./P3_GrantExport.csv', sep=';')\n",
    "projects.head(3)"
   ]
  },
  {
   "cell_type": "markdown",
   "metadata": {},
   "source": [
    "We can get rid of all the information we don't need for what we want to visualize : "
   ]
  },
  {
   "cell_type": "code",
   "execution_count": 160,
   "metadata": {
    "collapsed": false
   },
   "outputs": [
    {
     "name": "stdout",
     "output_type": "stream",
     "text": [
      "Is the University column non null ? False\n",
      "Is the Amount column non null ? True\n",
      "Is the University column non null ? True\n"
     ]
    },
    {
     "data": {
      "text/html": [
       "<div>\n",
       "<table border=\"1\" class=\"dataframe\">\n",
       "  <thead>\n",
       "    <tr style=\"text-align: right;\">\n",
       "      <th></th>\n",
       "      <th>﻿\"Project Number\"</th>\n",
       "      <th>University</th>\n",
       "      <th>Approved Amount</th>\n",
       "    </tr>\n",
       "  </thead>\n",
       "  <tbody>\n",
       "    <tr>\n",
       "      <th>0</th>\n",
       "      <td>1</td>\n",
       "      <td>Nicht zuteilbar - NA</td>\n",
       "      <td>11619.00</td>\n",
       "    </tr>\n",
       "    <tr>\n",
       "      <th>1</th>\n",
       "      <td>4</td>\n",
       "      <td>Université de Genève - GE</td>\n",
       "      <td>41022.00</td>\n",
       "    </tr>\n",
       "    <tr>\n",
       "      <th>2</th>\n",
       "      <td>5</td>\n",
       "      <td>NPO (Biblioth., Museen, Verwalt.) - NPO</td>\n",
       "      <td>79732.00</td>\n",
       "    </tr>\n",
       "  </tbody>\n",
       "</table>\n",
       "</div>"
      ],
      "text/plain": [
       "   ﻿\"Project Number\"                               University Approved Amount\n",
       "0                  1                     Nicht zuteilbar - NA        11619.00\n",
       "1                  4                Université de Genève - GE        41022.00\n",
       "2                  5  NPO (Biblioth., Museen, Verwalt.) - NPO        79732.00"
      ]
     },
     "execution_count": 160,
     "metadata": {},
     "output_type": "execute_result"
    }
   ],
   "source": [
    "# Drop the columns we don't need\n",
    "projects = projects.drop(['Project Title', 'Project Title English', 'Responsible Applicant', \n",
    "                         'Funding Instrument', 'Funding Instrument Hierarchy', 'Institution', \n",
    "                         'Discipline Number', 'Discipline Name', 'Discipline Name Hierarchy', \n",
    "                         'Start Date', 'End Date', 'Keywords'], axis=1)\n",
    "\n",
    "# Is the university always non null, what about the amount ?\n",
    "print('Is the University column non null ?', projects['University'].notnull().all())\n",
    "print('Is the Amount column non null ?', projects['Approved Amount'].notnull().all())\n",
    "\n",
    "# The amount is never null, so we drop the rows with a null University\n",
    "projects = projects[projects['University'].notnull()]\n",
    "print('Is the University column non null ?', projects['University'].notnull().all())\n",
    "\n",
    "projects.head(3)"
   ]
  },
  {
   "cell_type": "markdown",
   "metadata": {},
   "source": [
    "Now it looks better.\n",
    "\n",
    "The next step is to map each project with a Swiss canton. We will try to use as much as possible the [geonames web services](http://www.geonames.org/export/web-services.html) to extract the location from the plain text university name."
   ]
  },
  {
   "cell_type": "code",
   "execution_count": 161,
   "metadata": {
    "collapsed": false
   },
   "outputs": [
    {
     "data": {
      "text/plain": [
       "Universität Zürich - ZH                               6774\n",
       "Université de Genève - GE                             6394\n",
       "ETH Zürich - ETHZ                                     6153\n",
       "Universität Bern - BE                                 5473\n",
       "Universität Basel - BS                                4746\n",
       "EPF Lausanne - EPFL                                   4428\n",
       "Université de Lausanne - LA                           4092\n",
       "Nicht zuteilbar - NA                                  2595\n",
       "Université de Fribourg - FR                           2079\n",
       "Université de Neuchâtel - NE                          1596\n",
       "NPO (Biblioth., Museen, Verwalt.) - NPO               1473\n",
       "Paul Scherrer Institut - PSI                           538\n",
       "Firmen/Privatwirtschaft - FP                           492\n",
       "Universität St. Gallen - SG                            426\n",
       "Università della Svizzera italiana - USI               346\n",
       "Eidg. Anstalt für Wasserversorgung - EAWAG             333\n",
       "HES de Suisse occidentale - HES-SO                     271\n",
       "Zürcher Fachhochschule (ohne PH) - ZFH                 260\n",
       "Eidg. Material und Prüfungsanstalt - EMPA              238\n",
       "Fachhochschule Nordwestschweiz (ohne PH) - FHNW        228\n",
       "Eidg. Forschungsanstalt für Wald,Schnee,Land - WSL     223\n",
       "Universität Luzern - LU                                214\n",
       "Inst. de Hautes Etudes Internat. et du Dév - IHEID     198\n",
       "Berner Fachhochschule - BFH                            136\n",
       "Forschungsanstalten Agroscope - AGS                    135\n",
       "SUP della Svizzera italiana - SUPSI                    135\n",
       "Idiap Research Institute - IDIAP                        88\n",
       "Friedrich Miescher Institute - FMI                      84\n",
       "Weitere Spitäler - ASPIT                                81\n",
       "Hochschule Luzern - HSLU                                62\n",
       "                                                      ... \n",
       "Haute école pédagogique du canton de Vaud - HEPL        16\n",
       "Forschungsinstitut für Opthalmologie - IRO              14\n",
       "Pädagogische Hochschule Luzern - PHLU                   14\n",
       "Pädagogische Hochschule Bern - PHBern                   13\n",
       "Pädagogische Hochschule St. Gallen - PHSG               13\n",
       "Eidg. Hochschulinstitut für Berufsbildung - EHB         12\n",
       "Institut für Kulturforschung Graubünden - IKG           12\n",
       "Schweizer Paraplegiker Forschung - SPF                  10\n",
       "Centre de rech. sur l'environnement alpin - CREALP       8\n",
       "Biotechnologie Institut Thurgau - BITG                   8\n",
       "Pädagogische Hochschule Graubünden - PHGR                7\n",
       "Haute école pédagogique BE, JU, NE - HEPBEJUNE           7\n",
       "Pädagogische Hochschule Zug - PHZG                       7\n",
       "Haute école pédagogique fribourgeoise - HEPFR            7\n",
       "Istituto Svizzero di Roma - ISR                          6\n",
       "Pädagogische Hochschule Thurgau - PHTG                   6\n",
       "Robert Walser-Stiftung Bern - RWS                        6\n",
       "Franklin University Switzerland - FUS                    6\n",
       "Pädagogische Hochschule Schwyz - PHSZ                    5\n",
       "Instituto Ricerche Solari Locarno - IRSOL                5\n",
       "Staatsunabh. Theologische Hochschule Basel - STHB        3\n",
       "Inst. Suisse de Spéléologie et Karstologie - ISSKA       3\n",
       "Fachhochschule Kalaidos - FHKD                           3\n",
       "Pädagogische Hochschule Wallis - PHVS                    2\n",
       "Facoltà di Teologia di Lugano - FTL                      2\n",
       "Pädag. Hochschule Tessin (Teilschule SUPSI) - ASP        2\n",
       "Schweiz. Hochschule für Logopädie Rorschach - SHLR       2\n",
       "Forschungskommission SAGW                                1\n",
       "Pädagogische Hochschule Schaffhausen - PHSH              1\n",
       "Fernfachhochschule Schweiz (Mitglied SUPSI) - FFHS       1\n",
       "Name: University, dtype: int64"
      ]
     },
     "execution_count": 161,
     "metadata": {},
     "output_type": "execute_result"
    }
   ],
   "source": [
    "# Extract the unique values for University\n",
    "projects['University'].value_counts()"
   ]
  },
  {
   "cell_type": "markdown",
   "metadata": {},
   "source": [
    "<b> From University to Canton </b>\n",
    "\n",
    "Now we need to go from the University to the Canton name. For this purpose, we use the <i>Geonames Full Text Search API</i>. The arguments provided in the request are the following:\n",
    "- q = Univerty name (q searches over all the attributes of a place)\n",
    "- country = Switzerland (the map we wish to create should represent Switzerland only, but some institutions listed in the data are located outside of the country) \n",
    "- username"
   ]
  },
  {
   "cell_type": "code",
   "execution_count": 162,
   "metadata": {
    "collapsed": false
   },
   "outputs": [],
   "source": [
    "geonames_url = 'http://api.geonames.org/searchJSON'\n",
    "\n",
    "# For each university, get the canton\n",
    "universities = projects['University'].unique()\n",
    "university_to_canton = {}\n",
    "for university in universities:\n",
    "    geo_param = {'q': university, 'username': 'pnicolet', 'country': 'CH'}\n",
    "    r = rq.get(geonames_url, geo_param)\n",
    "    result = r.json()\n",
    "\n",
    "    geonames = result.get('geonames', None)\n",
    "    \n",
    "    # TODO: Why is it that so many universities can not be found?\n",
    "    canton = None\n",
    "    if len(geonames) > 0:\n",
    "        canton = geonames[0].get('adminCode1')\n",
    "\n",
    "    university_to_canton[university] = canton"
   ]
  },
  {
   "cell_type": "markdown",
   "metadata": {},
   "source": [
    "We choose not to go through the intermediate visualization step. Indeed, the 'country' parameter has already filtered out all possibilities of having locations outside of Switzerland."
   ]
  },
  {
   "cell_type": "code",
   "execution_count": 163,
   "metadata": {
    "collapsed": false
   },
   "outputs": [
    {
     "data": {
      "text/plain": [
       "['ZH',\n",
       " 'BE',\n",
       " 'LU',\n",
       " 'UR',\n",
       " 'SZ',\n",
       " 'OW',\n",
       " 'NW',\n",
       " 'GL',\n",
       " 'ZG',\n",
       " 'FR',\n",
       " 'SO',\n",
       " 'BS',\n",
       " 'BL',\n",
       " 'SH',\n",
       " 'AR',\n",
       " 'AI',\n",
       " 'SG',\n",
       " 'GR',\n",
       " 'AG',\n",
       " 'TG',\n",
       " 'TI',\n",
       " 'VD',\n",
       " 'VS',\n",
       " 'NE',\n",
       " 'GE',\n",
       " 'JU']"
      ]
     },
     "execution_count": 163,
     "metadata": {},
     "output_type": "execute_result"
    }
   ],
   "source": [
    "# This will be useful to do a dictionary [canton ID => amount of money] at the end\n",
    "# Read the topoJson file\n",
    "with open('./ch-cantons.topojson.json') as f:\n",
    "    topo = json.load(f)\n",
    "\n",
    "# Extract all the cantons IDs\n",
    "cantons_ids = []\n",
    "for geo in topo['objects']['cantons']['geometries']:\n",
    "    cantons_ids.append(geo['id'])\n",
    "    \n",
    "cantons_ids"
   ]
  },
  {
   "cell_type": "markdown",
   "metadata": {},
   "source": [
    "## Data Vizualization"
   ]
  },
  {
   "cell_type": "markdown",
   "metadata": {},
   "source": [
    "We now get the total approved amount per canton."
   ]
  },
  {
   "cell_type": "code",
   "execution_count": 167,
   "metadata": {
    "collapsed": false
   },
   "outputs": [
    {
     "data": {
      "text/html": [
       "<div>\n",
       "<table border=\"1\" class=\"dataframe\">\n",
       "  <thead>\n",
       "    <tr style=\"text-align: right;\">\n",
       "      <th></th>\n",
       "      <th>Approved Amount</th>\n",
       "    </tr>\n",
       "    <tr>\n",
       "      <th>Canton</th>\n",
       "      <th></th>\n",
       "    </tr>\n",
       "  </thead>\n",
       "  <tbody>\n",
       "    <tr>\n",
       "      <th>BE</th>\n",
       "      <td>147795.00154420.0014242.0014235.00117101.00200...</td>\n",
       "    </tr>\n",
       "    <tr>\n",
       "      <th>BS</th>\n",
       "      <td>52627.00112664.0019134.0064279.0071884.0029382...</td>\n",
       "    </tr>\n",
       "    <tr>\n",
       "      <th>FR</th>\n",
       "      <td>53009.0025403.00153886.00204018.0063684.003725...</td>\n",
       "    </tr>\n",
       "    <tr>\n",
       "      <th>NE</th>\n",
       "      <td>51904.0030000.0013620.0032500.006000.00161538....</td>\n",
       "    </tr>\n",
       "    <tr>\n",
       "      <th>ZH</th>\n",
       "      <td>47100.005000.0083983.0024552.0020000.00117564....</td>\n",
       "    </tr>\n",
       "  </tbody>\n",
       "</table>\n",
       "</div>"
      ],
      "text/plain": [
       "                                          Approved Amount\n",
       "Canton                                                   \n",
       "BE      147795.00154420.0014242.0014235.00117101.00200...\n",
       "BS      52627.00112664.0019134.0064279.0071884.0029382...\n",
       "FR      53009.0025403.00153886.00204018.0063684.003725...\n",
       "NE      51904.0030000.0013620.0032500.006000.00161538....\n",
       "ZH      47100.005000.0083983.0024552.0020000.00117564...."
      ]
     },
     "execution_count": 167,
     "metadata": {},
     "output_type": "execute_result"
    }
   ],
   "source": [
    "projects['Canton'] = pd.DataFrame(projects['University']).applymap(university_to_canton.get)\n",
    "canton_budgets = projects.drop(projects.columns[[0, 1]], axis=1)\n",
    "canton_budgets.groupby('Canton').sum()"
   ]
  },
  {
   "cell_type": "code",
   "execution_count": 165,
   "metadata": {
    "collapsed": false
   },
   "outputs": [
    {
     "ename": "SyntaxError",
     "evalue": "invalid syntax (<ipython-input-165-cfe61a194dd1>, line 2)",
     "output_type": "error",
     "traceback": [
      "\u001b[0;36m  File \u001b[0;32m\"<ipython-input-165-cfe61a194dd1>\"\u001b[0;36m, line \u001b[0;32m2\u001b[0m\n\u001b[0;31m    canton_data = # put dataframe her\u001b[0m\n\u001b[0m                                     ^\u001b[0m\n\u001b[0;31mSyntaxError\u001b[0m\u001b[0;31m:\u001b[0m invalid syntax\n"
     ]
    }
   ],
   "source": [
    "#####TODO\n",
    "canton_geo = r'./ch-cantons.topojson.json'\n",
    "canton_data = # put dataframe her\n",
    "\n",
    "#Let Folium determine the scale\n",
    "map = folium.Map(location=[46.8182, 8.2275], zoom_start=8)\n",
    "map.choropleth(geo_path=canton_geo, data=canton_data,\n",
    "            columns=['Canton', 'Budget'],\n",
    "             key_on='feature.id',\n",
    "             fill_color='YlGn', fill_opacity=0.7, line_opacity=0.2,\n",
    "             legend_name='Budget per Canton')\n",
    "map.save('canton_budget.html')"
   ]
  },
  {
   "cell_type": "code",
   "execution_count": null,
   "metadata": {
    "collapsed": true
   },
   "outputs": [],
   "source": []
  }
 ],
 "metadata": {
  "anaconda-cloud": {},
  "kernelspec": {
   "display_name": "Python [Root]",
   "language": "python",
   "name": "Python [Root]"
  },
  "language_info": {
   "codemirror_mode": {
    "name": "ipython",
    "version": 3
   },
   "file_extension": ".py",
   "mimetype": "text/x-python",
   "name": "python",
   "nbconvert_exporter": "python",
   "pygments_lexer": "ipython3",
   "version": "3.5.2"
  }
 },
 "nbformat": 4,
 "nbformat_minor": 1
}
