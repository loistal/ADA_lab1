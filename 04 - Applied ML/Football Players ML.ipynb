{
 "cells": [
  {
   "cell_type": "markdown",
   "metadata": {
    "collapsed": true
   },
   "source": [
    "# Introduction to Machine Learning with Football Players"
   ]
  },
  {
   "cell_type": "markdown",
   "metadata": {},
   "source": [
    "This notebook is an introduction to machine learning applied on [this](https://github.com/loistal/ADA_labs/blob/master/04%20-%20Applied%20ML/DATA.md) dataset.\n",
    "\n",
    "The goal is to be able to predict the skin color of a player, using supervised and unsupervised techniques."
   ]
  },
  {
   "cell_type": "markdown",
   "metadata": {},
   "source": [
    "## Data Pre-Processing"
   ]
  },
  {
   "cell_type": "markdown",
   "metadata": {},
   "source": [
    "First, we need to work on the data to clean it and get it ready for the learning part.\n",
    "\n",
    "We use [this](http://nbviewer.jupyter.org/github/mathewzilla/redcard/blob/master/Crowdstorming_visualisation.ipynb) notebook to help us achieving this task."
   ]
  },
  {
   "cell_type": "code",
   "execution_count": 29,
   "metadata": {
    "collapsed": true
   },
   "outputs": [],
   "source": [
    "# Import libraries\n",
    "import matplotlib.pyplot as plt\n",
    "import pandas as pd\n",
    "import seaborn as sns\n",
    "import numpy as np\n",
    "import sklearn as sk\n",
    "\n",
    "# Display plots inline\n",
    "%matplotlib inline "
   ]
  },
  {
   "cell_type": "markdown",
   "metadata": {},
   "source": [
    "### First Look\n",
    "Let's import the data and take a look at it : "
   ]
  },
  {
   "cell_type": "code",
   "execution_count": 30,
   "metadata": {
    "collapsed": false
   },
   "outputs": [
    {
     "name": "stdout",
     "output_type": "stream",
     "text": [
      "Shape : (146028, 28).\n"
     ]
    },
    {
     "data": {
      "text/html": [
       "<div>\n",
       "<table border=\"1\" class=\"dataframe\">\n",
       "  <thead>\n",
       "    <tr style=\"text-align: right;\">\n",
       "      <th></th>\n",
       "      <th>playerShort</th>\n",
       "      <th>player</th>\n",
       "      <th>club</th>\n",
       "      <th>leagueCountry</th>\n",
       "      <th>birthday</th>\n",
       "      <th>height</th>\n",
       "      <th>weight</th>\n",
       "      <th>position</th>\n",
       "      <th>games</th>\n",
       "      <th>victories</th>\n",
       "      <th>...</th>\n",
       "      <th>rater2</th>\n",
       "      <th>refNum</th>\n",
       "      <th>refCountry</th>\n",
       "      <th>Alpha_3</th>\n",
       "      <th>meanIAT</th>\n",
       "      <th>nIAT</th>\n",
       "      <th>seIAT</th>\n",
       "      <th>meanExp</th>\n",
       "      <th>nExp</th>\n",
       "      <th>seExp</th>\n",
       "    </tr>\n",
       "  </thead>\n",
       "  <tbody>\n",
       "    <tr>\n",
       "      <th>0</th>\n",
       "      <td>lucas-wilchez</td>\n",
       "      <td>Lucas Wilchez</td>\n",
       "      <td>Real Zaragoza</td>\n",
       "      <td>Spain</td>\n",
       "      <td>31.08.1983</td>\n",
       "      <td>177.0</td>\n",
       "      <td>72.0</td>\n",
       "      <td>Attacking Midfielder</td>\n",
       "      <td>1</td>\n",
       "      <td>0</td>\n",
       "      <td>...</td>\n",
       "      <td>0.50</td>\n",
       "      <td>1</td>\n",
       "      <td>1</td>\n",
       "      <td>GRC</td>\n",
       "      <td>0.326391</td>\n",
       "      <td>712.0</td>\n",
       "      <td>0.000564</td>\n",
       "      <td>0.396000</td>\n",
       "      <td>750.0</td>\n",
       "      <td>0.002696</td>\n",
       "    </tr>\n",
       "    <tr>\n",
       "      <th>1</th>\n",
       "      <td>john-utaka</td>\n",
       "      <td>John Utaka</td>\n",
       "      <td>Montpellier HSC</td>\n",
       "      <td>France</td>\n",
       "      <td>08.01.1982</td>\n",
       "      <td>179.0</td>\n",
       "      <td>82.0</td>\n",
       "      <td>Right Winger</td>\n",
       "      <td>1</td>\n",
       "      <td>0</td>\n",
       "      <td>...</td>\n",
       "      <td>0.75</td>\n",
       "      <td>2</td>\n",
       "      <td>2</td>\n",
       "      <td>ZMB</td>\n",
       "      <td>0.203375</td>\n",
       "      <td>40.0</td>\n",
       "      <td>0.010875</td>\n",
       "      <td>-0.204082</td>\n",
       "      <td>49.0</td>\n",
       "      <td>0.061504</td>\n",
       "    </tr>\n",
       "    <tr>\n",
       "      <th>2</th>\n",
       "      <td>abdon-prats</td>\n",
       "      <td>Abdón Prats</td>\n",
       "      <td>RCD Mallorca</td>\n",
       "      <td>Spain</td>\n",
       "      <td>17.12.1992</td>\n",
       "      <td>181.0</td>\n",
       "      <td>79.0</td>\n",
       "      <td>NaN</td>\n",
       "      <td>1</td>\n",
       "      <td>0</td>\n",
       "      <td>...</td>\n",
       "      <td>NaN</td>\n",
       "      <td>3</td>\n",
       "      <td>3</td>\n",
       "      <td>ESP</td>\n",
       "      <td>0.369894</td>\n",
       "      <td>1785.0</td>\n",
       "      <td>0.000229</td>\n",
       "      <td>0.588297</td>\n",
       "      <td>1897.0</td>\n",
       "      <td>0.001002</td>\n",
       "    </tr>\n",
       "    <tr>\n",
       "      <th>3</th>\n",
       "      <td>pablo-mari</td>\n",
       "      <td>Pablo Marí</td>\n",
       "      <td>RCD Mallorca</td>\n",
       "      <td>Spain</td>\n",
       "      <td>31.08.1993</td>\n",
       "      <td>191.0</td>\n",
       "      <td>87.0</td>\n",
       "      <td>Center Back</td>\n",
       "      <td>1</td>\n",
       "      <td>1</td>\n",
       "      <td>...</td>\n",
       "      <td>NaN</td>\n",
       "      <td>3</td>\n",
       "      <td>3</td>\n",
       "      <td>ESP</td>\n",
       "      <td>0.369894</td>\n",
       "      <td>1785.0</td>\n",
       "      <td>0.000229</td>\n",
       "      <td>0.588297</td>\n",
       "      <td>1897.0</td>\n",
       "      <td>0.001002</td>\n",
       "    </tr>\n",
       "    <tr>\n",
       "      <th>4</th>\n",
       "      <td>ruben-pena</td>\n",
       "      <td>Rubén Peña</td>\n",
       "      <td>Real Valladolid</td>\n",
       "      <td>Spain</td>\n",
       "      <td>18.07.1991</td>\n",
       "      <td>172.0</td>\n",
       "      <td>70.0</td>\n",
       "      <td>Right Midfielder</td>\n",
       "      <td>1</td>\n",
       "      <td>1</td>\n",
       "      <td>...</td>\n",
       "      <td>NaN</td>\n",
       "      <td>3</td>\n",
       "      <td>3</td>\n",
       "      <td>ESP</td>\n",
       "      <td>0.369894</td>\n",
       "      <td>1785.0</td>\n",
       "      <td>0.000229</td>\n",
       "      <td>0.588297</td>\n",
       "      <td>1897.0</td>\n",
       "      <td>0.001002</td>\n",
       "    </tr>\n",
       "  </tbody>\n",
       "</table>\n",
       "<p>5 rows × 28 columns</p>\n",
       "</div>"
      ],
      "text/plain": [
       "     playerShort         player             club leagueCountry    birthday  \\\n",
       "0  lucas-wilchez  Lucas Wilchez    Real Zaragoza         Spain  31.08.1983   \n",
       "1     john-utaka     John Utaka  Montpellier HSC        France  08.01.1982   \n",
       "2    abdon-prats    Abdón Prats     RCD Mallorca         Spain  17.12.1992   \n",
       "3     pablo-mari     Pablo Marí     RCD Mallorca         Spain  31.08.1993   \n",
       "4     ruben-pena     Rubén Peña  Real Valladolid         Spain  18.07.1991   \n",
       "\n",
       "   height  weight              position  games  victories    ...     rater2  \\\n",
       "0   177.0    72.0  Attacking Midfielder      1          0    ...       0.50   \n",
       "1   179.0    82.0          Right Winger      1          0    ...       0.75   \n",
       "2   181.0    79.0                   NaN      1          0    ...        NaN   \n",
       "3   191.0    87.0           Center Back      1          1    ...        NaN   \n",
       "4   172.0    70.0      Right Midfielder      1          1    ...        NaN   \n",
       "\n",
       "   refNum  refCountry  Alpha_3   meanIAT    nIAT     seIAT   meanExp    nExp  \\\n",
       "0       1           1      GRC  0.326391   712.0  0.000564  0.396000   750.0   \n",
       "1       2           2      ZMB  0.203375    40.0  0.010875 -0.204082    49.0   \n",
       "2       3           3      ESP  0.369894  1785.0  0.000229  0.588297  1897.0   \n",
       "3       3           3      ESP  0.369894  1785.0  0.000229  0.588297  1897.0   \n",
       "4       3           3      ESP  0.369894  1785.0  0.000229  0.588297  1897.0   \n",
       "\n",
       "      seExp  \n",
       "0  0.002696  \n",
       "1  0.061504  \n",
       "2  0.001002  \n",
       "3  0.001002  \n",
       "4  0.001002  \n",
       "\n",
       "[5 rows x 28 columns]"
      ]
     },
     "execution_count": 30,
     "metadata": {},
     "output_type": "execute_result"
    }
   ],
   "source": [
    "filename = 'CrowdstormingDataJuly1st.csv'\n",
    "\n",
    "# Create dataframe from the CSV file\n",
    "df = pd.read_csv(filename)\n",
    "\n",
    "print('Shape : {}.'.format(df.shape))\n",
    "df.head(5)"
   ]
  },
  {
   "cell_type": "markdown",
   "metadata": {},
   "source": [
    "As explained in the data description, each row of the dataset is a dyad, which means that each row represents data for a given player under a given referee, with additional data about the player and the referee themselves."
   ]
  },
  {
   "cell_type": "markdown",
   "metadata": {},
   "source": [
    "### Skin information\n",
    "From the `rater2` column above, some values are missing, which means there is no pictures. Given we base our analysis on the skin color, the row without picture or raters don't contain any information about the skin color, we choose to drop them."
   ]
  },
  {
   "cell_type": "code",
   "execution_count": 31,
   "metadata": {
    "collapsed": false
   },
   "outputs": [
    {
     "name": "stdout",
     "output_type": "stream",
     "text": [
      "0.14659517352836443 % of the pictures are missing.\n"
     ]
    },
    {
     "data": {
      "text/html": [
       "<div>\n",
       "<table border=\"1\" class=\"dataframe\">\n",
       "  <thead>\n",
       "    <tr style=\"text-align: right;\">\n",
       "      <th></th>\n",
       "      <th>playerShort</th>\n",
       "      <th>player</th>\n",
       "      <th>club</th>\n",
       "      <th>leagueCountry</th>\n",
       "      <th>birthday</th>\n",
       "      <th>height</th>\n",
       "      <th>weight</th>\n",
       "      <th>position</th>\n",
       "      <th>games</th>\n",
       "      <th>victories</th>\n",
       "      <th>...</th>\n",
       "      <th>rater2</th>\n",
       "      <th>refNum</th>\n",
       "      <th>refCountry</th>\n",
       "      <th>Alpha_3</th>\n",
       "      <th>meanIAT</th>\n",
       "      <th>nIAT</th>\n",
       "      <th>seIAT</th>\n",
       "      <th>meanExp</th>\n",
       "      <th>nExp</th>\n",
       "      <th>seExp</th>\n",
       "    </tr>\n",
       "  </thead>\n",
       "  <tbody>\n",
       "    <tr>\n",
       "      <th>0</th>\n",
       "      <td>lucas-wilchez</td>\n",
       "      <td>Lucas Wilchez</td>\n",
       "      <td>Real Zaragoza</td>\n",
       "      <td>Spain</td>\n",
       "      <td>31.08.1983</td>\n",
       "      <td>177.0</td>\n",
       "      <td>72.0</td>\n",
       "      <td>Attacking Midfielder</td>\n",
       "      <td>1</td>\n",
       "      <td>0</td>\n",
       "      <td>...</td>\n",
       "      <td>0.50</td>\n",
       "      <td>1</td>\n",
       "      <td>1</td>\n",
       "      <td>GRC</td>\n",
       "      <td>0.326391</td>\n",
       "      <td>712.0</td>\n",
       "      <td>0.000564</td>\n",
       "      <td>0.396000</td>\n",
       "      <td>750.0</td>\n",
       "      <td>0.002696</td>\n",
       "    </tr>\n",
       "    <tr>\n",
       "      <th>1</th>\n",
       "      <td>john-utaka</td>\n",
       "      <td>John Utaka</td>\n",
       "      <td>Montpellier HSC</td>\n",
       "      <td>France</td>\n",
       "      <td>08.01.1982</td>\n",
       "      <td>179.0</td>\n",
       "      <td>82.0</td>\n",
       "      <td>Right Winger</td>\n",
       "      <td>1</td>\n",
       "      <td>0</td>\n",
       "      <td>...</td>\n",
       "      <td>0.75</td>\n",
       "      <td>2</td>\n",
       "      <td>2</td>\n",
       "      <td>ZMB</td>\n",
       "      <td>0.203375</td>\n",
       "      <td>40.0</td>\n",
       "      <td>0.010875</td>\n",
       "      <td>-0.204082</td>\n",
       "      <td>49.0</td>\n",
       "      <td>0.061504</td>\n",
       "    </tr>\n",
       "    <tr>\n",
       "      <th>5</th>\n",
       "      <td>aaron-hughes</td>\n",
       "      <td>Aaron Hughes</td>\n",
       "      <td>Fulham FC</td>\n",
       "      <td>England</td>\n",
       "      <td>08.11.1979</td>\n",
       "      <td>182.0</td>\n",
       "      <td>71.0</td>\n",
       "      <td>Center Back</td>\n",
       "      <td>1</td>\n",
       "      <td>0</td>\n",
       "      <td>...</td>\n",
       "      <td>0.00</td>\n",
       "      <td>4</td>\n",
       "      <td>4</td>\n",
       "      <td>LUX</td>\n",
       "      <td>0.325185</td>\n",
       "      <td>127.0</td>\n",
       "      <td>0.003297</td>\n",
       "      <td>0.538462</td>\n",
       "      <td>130.0</td>\n",
       "      <td>0.013752</td>\n",
       "    </tr>\n",
       "    <tr>\n",
       "      <th>6</th>\n",
       "      <td>aleksandar-kolarov</td>\n",
       "      <td>Aleksandar Kolarov</td>\n",
       "      <td>Manchester City</td>\n",
       "      <td>England</td>\n",
       "      <td>10.11.1985</td>\n",
       "      <td>187.0</td>\n",
       "      <td>80.0</td>\n",
       "      <td>Left Fullback</td>\n",
       "      <td>1</td>\n",
       "      <td>1</td>\n",
       "      <td>...</td>\n",
       "      <td>0.25</td>\n",
       "      <td>4</td>\n",
       "      <td>4</td>\n",
       "      <td>LUX</td>\n",
       "      <td>0.325185</td>\n",
       "      <td>127.0</td>\n",
       "      <td>0.003297</td>\n",
       "      <td>0.538462</td>\n",
       "      <td>130.0</td>\n",
       "      <td>0.013752</td>\n",
       "    </tr>\n",
       "    <tr>\n",
       "      <th>7</th>\n",
       "      <td>alexander-tettey</td>\n",
       "      <td>Alexander Tettey</td>\n",
       "      <td>Norwich City</td>\n",
       "      <td>England</td>\n",
       "      <td>04.04.1986</td>\n",
       "      <td>180.0</td>\n",
       "      <td>68.0</td>\n",
       "      <td>Defensive Midfielder</td>\n",
       "      <td>1</td>\n",
       "      <td>0</td>\n",
       "      <td>...</td>\n",
       "      <td>1.00</td>\n",
       "      <td>4</td>\n",
       "      <td>4</td>\n",
       "      <td>LUX</td>\n",
       "      <td>0.325185</td>\n",
       "      <td>127.0</td>\n",
       "      <td>0.003297</td>\n",
       "      <td>0.538462</td>\n",
       "      <td>130.0</td>\n",
       "      <td>0.013752</td>\n",
       "    </tr>\n",
       "  </tbody>\n",
       "</table>\n",
       "<p>5 rows × 28 columns</p>\n",
       "</div>"
      ],
      "text/plain": [
       "          playerShort              player             club leagueCountry  \\\n",
       "0       lucas-wilchez       Lucas Wilchez    Real Zaragoza         Spain   \n",
       "1          john-utaka          John Utaka  Montpellier HSC        France   \n",
       "5        aaron-hughes        Aaron Hughes        Fulham FC       England   \n",
       "6  aleksandar-kolarov  Aleksandar Kolarov  Manchester City       England   \n",
       "7    alexander-tettey    Alexander Tettey     Norwich City       England   \n",
       "\n",
       "     birthday  height  weight              position  games  victories  \\\n",
       "0  31.08.1983   177.0    72.0  Attacking Midfielder      1          0   \n",
       "1  08.01.1982   179.0    82.0          Right Winger      1          0   \n",
       "5  08.11.1979   182.0    71.0           Center Back      1          0   \n",
       "6  10.11.1985   187.0    80.0         Left Fullback      1          1   \n",
       "7  04.04.1986   180.0    68.0  Defensive Midfielder      1          0   \n",
       "\n",
       "     ...     rater2  refNum  refCountry  Alpha_3   meanIAT   nIAT     seIAT  \\\n",
       "0    ...       0.50       1           1      GRC  0.326391  712.0  0.000564   \n",
       "1    ...       0.75       2           2      ZMB  0.203375   40.0  0.010875   \n",
       "5    ...       0.00       4           4      LUX  0.325185  127.0  0.003297   \n",
       "6    ...       0.25       4           4      LUX  0.325185  127.0  0.003297   \n",
       "7    ...       1.00       4           4      LUX  0.325185  127.0  0.003297   \n",
       "\n",
       "    meanExp   nExp     seExp  \n",
       "0  0.396000  750.0  0.002696  \n",
       "1 -0.204082   49.0  0.061504  \n",
       "5  0.538462  130.0  0.013752  \n",
       "6  0.538462  130.0  0.013752  \n",
       "7  0.538462  130.0  0.013752  \n",
       "\n",
       "[5 rows x 28 columns]"
      ]
     },
     "execution_count": 31,
     "metadata": {},
     "output_type": "execute_result"
    }
   ],
   "source": [
    "print('{} % of the pictures are missing.'.format(df.photoID.isnull().sum() / len(df.photoID)))\n",
    "\n",
    "# Drop the null rows\n",
    "df = df[df.photoID.notnull()]\n",
    "\n",
    "df.head(5)"
   ]
  },
  {
   "cell_type": "markdown",
   "metadata": {},
   "source": [
    "### Player - Referee interaction analysis\n",
    "Let's look at some attributes in more detail to improve our understanding of the player-referee interactions."
   ]
  },
  {
   "cell_type": "markdown",
   "metadata": {},
   "source": [
    "** How many times does a player meet the same referee ? **"
   ]
  },
  {
   "cell_type": "code",
   "execution_count": 32,
   "metadata": {
    "collapsed": false
   },
   "outputs": [
    {
     "data": {
      "image/png": "[encoded data removed]",
      "text/plain": [
       "<matplotlib.figure.Figure at 0x112c584a8>"
      ]
     },
     "metadata": {},
     "output_type": "display_data"
    }
   ],
   "source": [
    "fig, ax = plt.subplots()\n",
    "ax.hist(df.games, bins=max(df.games))\n",
    "ax.set_title('Player/Referee meeting frequency')\n",
    "ax.set_xlabel('Number of meeting')\n",
    "ax.set_ylabel('Frequency')\n",
    "ax.set_yscale('log')\n",
    "plt.show()"
   ]
  },
  {
   "cell_type": "markdown",
   "metadata": {},
   "source": [
    "As we can see, most of the time, a player and a referee meet only once. "
   ]
  },
  {
   "cell_type": "markdown",
   "metadata": {},
   "source": [
    "**In how many diads does a referee appear ?**"
   ]
  },
  {
   "cell_type": "code",
   "execution_count": 33,
   "metadata": {
    "collapsed": false
   },
   "outputs": [
    {
     "name": "stdout",
     "output_type": "stream",
     "text": [
      "Total number of referees : 2978.\n"
     ]
    },
    {
     "data": {
      "image/png": "[encoded data removed]",
      "text/plain": [
       "<matplotlib.figure.Figure at 0x1129815c0>"
      ]
     },
     "metadata": {},
     "output_type": "display_data"
    }
   ],
   "source": [
    "ref_freq = df['refNum'].value_counts()\n",
    "\n",
    "print('Total number of referees : {}.'.format(len(ref_freq)))\n",
    "\n",
    "fig, ax = plt.subplots()\n",
    "ax.hist(list(ref_freq), bins=len(ref_freq))\n",
    "ax.set_title('Dyads per referee frequency')\n",
    "ax.set_xlabel('Number of dyads')\n",
    "ax.set_xscale('log')\n",
    "ax.set_ylabel('Frequency')\n",
    "ax.set_yscale('log')\n",
    "plt.show()"
   ]
  },
  {
   "cell_type": "markdown",
   "metadata": {},
   "source": [
    "We can see here that most of the referee appear in a very small number of dyads. This is problematic, because for one single game, a referee should appear at least 22 times, because there are 22 players on the field.\n",
    "\n",
    "The problem (discovered [here](http://nbviewer.jupyter.org/github/mathewzilla/redcard/blob/master/Crowdstorming_visualisation.ipynb)) comes actually from the fact that all the history the data contains all the history of each player. This can explain why we get some weird data for referees.\n",
    "\n",
    "To fix this problem, we need to remove each row which corresponds to a referee which appears in less that 22 dyads : "
   ]
  },
  {
   "cell_type": "code",
   "execution_count": 34,
   "metadata": {
    "collapsed": false
   },
   "outputs": [
    {
     "data": {
      "image/png": "[encoded data removed]",
      "text/plain": [
       "<matplotlib.figure.Figure at 0x1198d57b8>"
      ]
     },
     "metadata": {},
     "output_type": "display_data"
    }
   ],
   "source": [
    "# Get all the valid referee IDs \n",
    "valid_ref = list(ref_freq[ref_freq > 21].index)\n",
    "\n",
    "# Filter the dataframe\n",
    "df = df[df['refNum'].isin(valid_ref)]\n",
    "\n",
    "ref_freq = df['refNum'].value_counts()\n",
    "\n",
    "# Plot again the frequency\n",
    "fig, ax = plt.subplots()\n",
    "ax.hist(ref_freq, bins=len(ref_freq))\n",
    "ax.set_title('Dyads per referee frequency')\n",
    "ax.set_xlabel('Number of dyads')\n",
    "ax.set_xscale('log')\n",
    "ax.set_ylabel('Frequency')\n",
    "ax.set_yscale('log')\n",
    "plt.show()"
   ]
  },
  {
   "cell_type": "markdown",
   "metadata": {},
   "source": [
    "This looks way better."
   ]
  },
  {
   "cell_type": "markdown",
   "metadata": {},
   "source": [
    "### Quantifying Racism\n",
    "It seems that the data doesn't contain any major impurity now, but we are not ready yet. \n",
    "\n",
    "We don't lose our final goal which is predicting skin color for players, but for now we only have dyads. We need to find a way to extract information about players only.\n",
    "\n",
    "We could actually just ignore the referee information for each dyads and then aggregate the information for each player. The problem with this solution is that we would lose all information about racism, which seems to be (unfortunately) the only useful source of information related to the skin color. We then have to find a way to extract the racism information from the referee and associate it to the player. \n",
    "\n",
    "We will define a new attribute, called `racismScore`, which associate with each player, the \"amount of racism that he potentially received from referees\". We will compute this score with the `meanIAT`, `meanExp`, yellow and red cards. \n",
    "\n",
    "To find out a formula that makes sense, we first take a look at these values : "
   ]
  },
  {
   "cell_type": "code",
   "execution_count": 35,
   "metadata": {
    "collapsed": false
   },
   "outputs": [
    {
     "name": "stdout",
     "output_type": "stream",
     "text": [
      "There are 110 NaN IAT values and 110 NaN Exp values.\n"
     ]
    },
    {
     "data": {
      "image/png": "[encoded data removed]",
      "text/plain": [
       "<matplotlib.figure.Figure at 0x11984d208>"
      ]
     },
     "metadata": {},
     "output_type": "display_data"
    }
   ],
   "source": [
    "print('There are {} NaN IAT values and {} NaN Exp values.'.format(df['meanIAT'].isnull().sum(), df['meanExp'].isnull().sum()))\n",
    "iat = df['meanIAT'].dropna()\n",
    "exp = df['meanExp'].dropna()\n",
    "\n",
    "fig, ((ax1, ax2), (ax3, ax4)) = plt.subplots(2, 2, figsize=(14, 10))\n",
    "\n",
    "ax1.hist(df['yellowCards'])\n",
    "ax1.set_title('Yellow cards frequency')\n",
    "ax1.set_yscale('log')\n",
    "ax1.set_xlabel('Number of yellow cards')\n",
    "ax1.set_ylabel('Frequency')\n",
    "\n",
    "ax2.hist(df['redCards'])\n",
    "ax2.set_title('Red cards frequency')\n",
    "ax2.set_yscale('log')\n",
    "ax2.set_xlabel('Number of red cards')\n",
    "ax2.set_ylabel('Frequency')\n",
    "\n",
    "ax3.set_title('Mean IAT frequency')\n",
    "ax3.hist(iat)\n",
    "ax3.set_yscale('log')\n",
    "ax3.set_xlabel('Mean IAT value')\n",
    "ax3.set_ylabel('Frequency')\n",
    "\n",
    "ax4.set_title('Mean Exp frequency')\n",
    "ax4.hist(exp)\n",
    "ax4.set_yscale('log')\n",
    "ax4.set_xlabel('Mean Exp value')\n",
    "ax4.set_ylabel('Frequency')\n",
    "\n",
    "plt.show()"
   ]
  },
  {
   "cell_type": "markdown",
   "metadata": {},
   "source": [
    "As we can see, most of the cards are yellow, and there are some rare red cards. \n",
    "\n",
    "We need to normalize the IAT and Exp values in order to make the count equally in our calculations. We also need to get rid of the NaN values :"
   ]
  },
  {
   "cell_type": "code",
   "execution_count": 36,
   "metadata": {
    "collapsed": false
   },
   "outputs": [
    {
     "data": {
      "image/png": "[encoded data removed]",
      "text/plain": [
       "<matplotlib.figure.Figure at 0x11984d2b0>"
      ]
     },
     "metadata": {},
     "output_type": "display_data"
    }
   ],
   "source": [
    "# Get rid of NaN values\n",
    "df = df[df['meanIAT'].notnull()]\n",
    "df = df[df['meanExp'].notnull()]\n",
    "\n",
    "# Normalize the IAT and Exp values\n",
    "df['meanIAT'] = (df['meanIAT'] / (max(df['meanIAT']) - min(df['meanIAT'])))\n",
    "df['meanExp'] = (df['meanExp'] / (max(df['meanExp']) - min(df['meanExp'])))\n",
    "\n",
    "fig, (ax1, ax2) = plt.subplots(1, 2)\n",
    "\n",
    "ax1.set_title('Mean IAT frequency')\n",
    "ax1.hist(df['meanIAT'])\n",
    "ax1.set_yscale('log')\n",
    "ax1.set_xlabel('Mean IAT value')\n",
    "ax1.set_ylabel('Frequency')\n",
    "\n",
    "ax2.set_title('Mean Exp frequency')\n",
    "ax2.hist(df['meanExp'])\n",
    "ax2.set_yscale('log')\n",
    "ax2.set_xlabel('Mean Exp value')\n",
    "ax2.set_ylabel('Frequency')\n",
    "\n",
    "plt.show()\n"
   ]
  },
  {
   "cell_type": "markdown",
   "metadata": {},
   "source": [
    "We can now define our new `racismScore attribute` : \n",
    "$$racismScore = (yellowCard + redCard) \\times (newIAT + newExp) / 2 $$\n",
    "where $newIAT = meanIAT - min(meanIAT) + 1$ and $newExp = meanExp - min(meanExp) + 1$ in order to not modify the number of cards when the IAT and Exp values are minimum."
   ]
  },
  {
   "cell_type": "code",
   "execution_count": 37,
   "metadata": {
    "collapsed": false
   },
   "outputs": [],
   "source": [
    "# Define the new feature\n",
    "newIAT = df['meanIAT'] - min(df['meanIAT']) + 1\n",
    "newExp = df['meanExp'] - min(df['meanExp']) + 1\n",
    "df['racismScore'] = (df['yellowCards'] + df['redCards']) * (newIAT + newExp) / 2\n",
    "\n",
    "# Drop cards related ones to not count them twice\n",
    "df = df.drop(['yellowCards', 'redCards', 'yellowReds'], axis = 1)"
   ]
  },
  {
   "cell_type": "markdown",
   "metadata": {},
   "source": [
    "### Extracting Player Descriptions\n",
    "Now that we have a way to caracterize racism, we want to drop referee information and aggregate rows by player to get individual player descriptions. We also consider the problem as binary, which means we want to find the skin color as a binary value light or dark : "
   ]
  },
  {
   "cell_type": "code",
   "execution_count": 38,
   "metadata": {
    "collapsed": false
   },
   "outputs": [
    {
     "data": {
      "text/html": [
       "<div>\n",
       "<table border=\"1\" class=\"dataframe\">\n",
       "  <thead>\n",
       "    <tr style=\"text-align: right;\">\n",
       "      <th></th>\n",
       "      <th>playerShort</th>\n",
       "      <th>player</th>\n",
       "      <th>club</th>\n",
       "      <th>leagueCountry</th>\n",
       "      <th>birthday</th>\n",
       "      <th>height</th>\n",
       "      <th>weight</th>\n",
       "      <th>position</th>\n",
       "      <th>photoID</th>\n",
       "      <th>defeats</th>\n",
       "      <th>goals</th>\n",
       "      <th>ties</th>\n",
       "      <th>racismScore</th>\n",
       "      <th>victories</th>\n",
       "      <th>games</th>\n",
       "      <th>skinColor</th>\n",
       "    </tr>\n",
       "  </thead>\n",
       "  <tbody>\n",
       "    <tr>\n",
       "      <th>0</th>\n",
       "      <td>aaron-hughes</td>\n",
       "      <td>Aaron Hughes</td>\n",
       "      <td>Fulham FC</td>\n",
       "      <td>England</td>\n",
       "      <td>08.11.1979</td>\n",
       "      <td>182.0</td>\n",
       "      <td>71.0</td>\n",
       "      <td>Center Back</td>\n",
       "      <td>3868.jpg</td>\n",
       "      <td>221</td>\n",
       "      <td>8</td>\n",
       "      <td>174</td>\n",
       "      <td>0.200209</td>\n",
       "      <td>240</td>\n",
       "      <td>635</td>\n",
       "      <td>0</td>\n",
       "    </tr>\n",
       "    <tr>\n",
       "      <th>1</th>\n",
       "      <td>aaron-hunt</td>\n",
       "      <td>Aaron Hunt</td>\n",
       "      <td>Werder Bremen</td>\n",
       "      <td>Germany</td>\n",
       "      <td>04.09.1986</td>\n",
       "      <td>183.0</td>\n",
       "      <td>73.0</td>\n",
       "      <td>Attacking Midfielder</td>\n",
       "      <td>20136.jpg</td>\n",
       "      <td>119</td>\n",
       "      <td>59</td>\n",
       "      <td>70</td>\n",
       "      <td>0.671219</td>\n",
       "      <td>139</td>\n",
       "      <td>328</td>\n",
       "      <td>0</td>\n",
       "    </tr>\n",
       "    <tr>\n",
       "      <th>2</th>\n",
       "      <td>aaron-lennon</td>\n",
       "      <td>Aaron Lennon</td>\n",
       "      <td>Tottenham Hotspur</td>\n",
       "      <td>England</td>\n",
       "      <td>16.04.1987</td>\n",
       "      <td>165.0</td>\n",
       "      <td>63.0</td>\n",
       "      <td>Right Midfielder</td>\n",
       "      <td>13515.jpg</td>\n",
       "      <td>115</td>\n",
       "      <td>31</td>\n",
       "      <td>96</td>\n",
       "      <td>0.172768</td>\n",
       "      <td>200</td>\n",
       "      <td>411</td>\n",
       "      <td>0</td>\n",
       "    </tr>\n",
       "    <tr>\n",
       "      <th>3</th>\n",
       "      <td>aaron-ramsey</td>\n",
       "      <td>Aaron Ramsey</td>\n",
       "      <td>Arsenal FC</td>\n",
       "      <td>England</td>\n",
       "      <td>26.12.1990</td>\n",
       "      <td>178.0</td>\n",
       "      <td>76.0</td>\n",
       "      <td>Center Midfielder</td>\n",
       "      <td>94953.jpg</td>\n",
       "      <td>67</td>\n",
       "      <td>39</td>\n",
       "      <td>42</td>\n",
       "      <td>0.520935</td>\n",
       "      <td>144</td>\n",
       "      <td>253</td>\n",
       "      <td>0</td>\n",
       "    </tr>\n",
       "    <tr>\n",
       "      <th>4</th>\n",
       "      <td>abdelhamid-el-kaoutari</td>\n",
       "      <td>Abdelhamid El-Kaoutari</td>\n",
       "      <td>Montpellier HSC</td>\n",
       "      <td>France</td>\n",
       "      <td>17.03.1990</td>\n",
       "      <td>180.0</td>\n",
       "      <td>73.0</td>\n",
       "      <td>Center Back</td>\n",
       "      <td>124913.jpg</td>\n",
       "      <td>43</td>\n",
       "      <td>1</td>\n",
       "      <td>40</td>\n",
       "      <td>0.422175</td>\n",
       "      <td>41</td>\n",
       "      <td>124</td>\n",
       "      <td>0</td>\n",
       "    </tr>\n",
       "  </tbody>\n",
       "</table>\n",
       "</div>"
      ],
      "text/plain": [
       "              playerShort                  player               club  \\\n",
       "0            aaron-hughes            Aaron Hughes          Fulham FC   \n",
       "1              aaron-hunt              Aaron Hunt      Werder Bremen   \n",
       "2            aaron-lennon            Aaron Lennon  Tottenham Hotspur   \n",
       "3            aaron-ramsey            Aaron Ramsey         Arsenal FC   \n",
       "4  abdelhamid-el-kaoutari  Abdelhamid El-Kaoutari    Montpellier HSC   \n",
       "\n",
       "  leagueCountry    birthday  height  weight              position     photoID  \\\n",
       "0       England  08.11.1979   182.0    71.0           Center Back    3868.jpg   \n",
       "1       Germany  04.09.1986   183.0    73.0  Attacking Midfielder   20136.jpg   \n",
       "2       England  16.04.1987   165.0    63.0      Right Midfielder   13515.jpg   \n",
       "3       England  26.12.1990   178.0    76.0     Center Midfielder   94953.jpg   \n",
       "4        France  17.03.1990   180.0    73.0           Center Back  124913.jpg   \n",
       "\n",
       "   defeats  goals  ties  racismScore  victories  games  skinColor  \n",
       "0      221      8   174     0.200209        240    635          0  \n",
       "1      119     59    70     0.671219        139    328          0  \n",
       "2      115     31    96     0.172768        200    411          0  \n",
       "3       67     39    42     0.520935        144    253          0  \n",
       "4       43      1    40     0.422175         41    124          0  "
      ]
     },
     "execution_count": 38,
     "metadata": {},
     "output_type": "execute_result"
    }
   ],
   "source": [
    "# Drop referee informations\n",
    "df = df.drop(['refNum', 'refCountry', 'Alpha_3', 'meanIAT', 'nIAT', 'seIAT', 'meanExp', 'nExp', 'seExp'], axis = 1)\n",
    "\n",
    "# Define the functions used to aggregate data \n",
    "funcs = {'games': sum, 'victories': sum, 'ties': sum, 'defeats': sum, 'goals': sum, \n",
    "         'rater1': np.mean, 'rater2': np.mean, 'racismScore': np.mean}\n",
    "\n",
    "# Aggregate player attributes\n",
    "groupby_cols = ['playerShort', 'player', 'club', 'leagueCountry', 'birthday', 'height', 'weight', 'position', 'photoID']\n",
    "df = df.groupby(groupby_cols).agg(funcs).reset_index()\n",
    "\n",
    "# Average the raters\n",
    "df['skinColor'] = (df['rater1'] + df['rater2']) / 2\n",
    "df = df.drop(['rater1', 'rater2'], axis = 1)\n",
    "df['skinColor'] = df['skinColor'].apply(lambda x : 0 if x < 0.5 else 1)\n",
    "\n",
    "df.head(5)"
   ]
  },
  {
   "cell_type": "markdown",
   "metadata": {},
   "source": [
    "### Categorical Data Encoding"
   ]
  },
  {
   "cell_type": "markdown",
   "metadata": {},
   "source": [
    "It turns out our data is not totally ready yet... Actually `scikit-learn` can't handle categorical data as strings, so we need to encode our categorical features in a good way. We will use dummy variables and the pandas function `get_dummies` to achieve this task.\n",
    "\n",
    "But first, we observe that some of the categorical features are unique for each player, like the name, photo ID, or birthday, we can safely remove than, as they don't add any information : "
   ]
  },
  {
   "cell_type": "code",
   "execution_count": 39,
   "metadata": {
    "collapsed": false
   },
   "outputs": [],
   "source": [
    "df = df.drop(['playerShort', 'player', 'birthday', 'photoID'], axis=1)"
   ]
  },
  {
   "cell_type": "markdown",
   "metadata": {},
   "source": [
    "Now, we can encode our useful categorical data with dummies : "
   ]
  },
  {
   "cell_type": "code",
   "execution_count": 40,
   "metadata": {
    "collapsed": false
   },
   "outputs": [
    {
     "data": {
      "text/html": [
       "<div>\n",
       "<table border=\"1\" class=\"dataframe\">\n",
       "  <thead>\n",
       "    <tr style=\"text-align: right;\">\n",
       "      <th></th>\n",
       "      <th>height</th>\n",
       "      <th>weight</th>\n",
       "      <th>defeats</th>\n",
       "      <th>goals</th>\n",
       "      <th>ties</th>\n",
       "      <th>racismScore</th>\n",
       "      <th>victories</th>\n",
       "      <th>games</th>\n",
       "      <th>skinColor</th>\n",
       "      <th>club_1. FC Nürnberg</th>\n",
       "      <th>...</th>\n",
       "      <th>position_Center Forward</th>\n",
       "      <th>position_Center Midfielder</th>\n",
       "      <th>position_Defensive Midfielder</th>\n",
       "      <th>position_Goalkeeper</th>\n",
       "      <th>position_Left Fullback</th>\n",
       "      <th>position_Left Midfielder</th>\n",
       "      <th>position_Left Winger</th>\n",
       "      <th>position_Right Fullback</th>\n",
       "      <th>position_Right Midfielder</th>\n",
       "      <th>position_Right Winger</th>\n",
       "    </tr>\n",
       "  </thead>\n",
       "  <tbody>\n",
       "    <tr>\n",
       "      <th>0</th>\n",
       "      <td>182.0</td>\n",
       "      <td>71.0</td>\n",
       "      <td>221</td>\n",
       "      <td>8</td>\n",
       "      <td>174</td>\n",
       "      <td>0.200209</td>\n",
       "      <td>240</td>\n",
       "      <td>635</td>\n",
       "      <td>0</td>\n",
       "      <td>0.0</td>\n",
       "      <td>...</td>\n",
       "      <td>0.0</td>\n",
       "      <td>0.0</td>\n",
       "      <td>0.0</td>\n",
       "      <td>0.0</td>\n",
       "      <td>0.0</td>\n",
       "      <td>0.0</td>\n",
       "      <td>0.0</td>\n",
       "      <td>0.0</td>\n",
       "      <td>0.0</td>\n",
       "      <td>0.0</td>\n",
       "    </tr>\n",
       "    <tr>\n",
       "      <th>1</th>\n",
       "      <td>183.0</td>\n",
       "      <td>73.0</td>\n",
       "      <td>119</td>\n",
       "      <td>59</td>\n",
       "      <td>70</td>\n",
       "      <td>0.671219</td>\n",
       "      <td>139</td>\n",
       "      <td>328</td>\n",
       "      <td>0</td>\n",
       "      <td>0.0</td>\n",
       "      <td>...</td>\n",
       "      <td>0.0</td>\n",
       "      <td>0.0</td>\n",
       "      <td>0.0</td>\n",
       "      <td>0.0</td>\n",
       "      <td>0.0</td>\n",
       "      <td>0.0</td>\n",
       "      <td>0.0</td>\n",
       "      <td>0.0</td>\n",
       "      <td>0.0</td>\n",
       "      <td>0.0</td>\n",
       "    </tr>\n",
       "    <tr>\n",
       "      <th>2</th>\n",
       "      <td>165.0</td>\n",
       "      <td>63.0</td>\n",
       "      <td>115</td>\n",
       "      <td>31</td>\n",
       "      <td>96</td>\n",
       "      <td>0.172768</td>\n",
       "      <td>200</td>\n",
       "      <td>411</td>\n",
       "      <td>0</td>\n",
       "      <td>0.0</td>\n",
       "      <td>...</td>\n",
       "      <td>0.0</td>\n",
       "      <td>0.0</td>\n",
       "      <td>0.0</td>\n",
       "      <td>0.0</td>\n",
       "      <td>0.0</td>\n",
       "      <td>0.0</td>\n",
       "      <td>0.0</td>\n",
       "      <td>0.0</td>\n",
       "      <td>1.0</td>\n",
       "      <td>0.0</td>\n",
       "    </tr>\n",
       "    <tr>\n",
       "      <th>3</th>\n",
       "      <td>178.0</td>\n",
       "      <td>76.0</td>\n",
       "      <td>67</td>\n",
       "      <td>39</td>\n",
       "      <td>42</td>\n",
       "      <td>0.520935</td>\n",
       "      <td>144</td>\n",
       "      <td>253</td>\n",
       "      <td>0</td>\n",
       "      <td>0.0</td>\n",
       "      <td>...</td>\n",
       "      <td>0.0</td>\n",
       "      <td>1.0</td>\n",
       "      <td>0.0</td>\n",
       "      <td>0.0</td>\n",
       "      <td>0.0</td>\n",
       "      <td>0.0</td>\n",
       "      <td>0.0</td>\n",
       "      <td>0.0</td>\n",
       "      <td>0.0</td>\n",
       "      <td>0.0</td>\n",
       "    </tr>\n",
       "    <tr>\n",
       "      <th>4</th>\n",
       "      <td>180.0</td>\n",
       "      <td>73.0</td>\n",
       "      <td>43</td>\n",
       "      <td>1</td>\n",
       "      <td>40</td>\n",
       "      <td>0.422175</td>\n",
       "      <td>41</td>\n",
       "      <td>124</td>\n",
       "      <td>0</td>\n",
       "      <td>0.0</td>\n",
       "      <td>...</td>\n",
       "      <td>0.0</td>\n",
       "      <td>0.0</td>\n",
       "      <td>0.0</td>\n",
       "      <td>0.0</td>\n",
       "      <td>0.0</td>\n",
       "      <td>0.0</td>\n",
       "      <td>0.0</td>\n",
       "      <td>0.0</td>\n",
       "      <td>0.0</td>\n",
       "      <td>0.0</td>\n",
       "    </tr>\n",
       "  </tbody>\n",
       "</table>\n",
       "<p>5 rows × 116 columns</p>\n",
       "</div>"
      ],
      "text/plain": [
       "   height  weight  defeats  goals  ties  racismScore  victories  games  \\\n",
       "0   182.0    71.0      221      8   174     0.200209        240    635   \n",
       "1   183.0    73.0      119     59    70     0.671219        139    328   \n",
       "2   165.0    63.0      115     31    96     0.172768        200    411   \n",
       "3   178.0    76.0       67     39    42     0.520935        144    253   \n",
       "4   180.0    73.0       43      1    40     0.422175         41    124   \n",
       "\n",
       "   skinColor  club_1. FC Nürnberg          ...            \\\n",
       "0          0                  0.0          ...             \n",
       "1          0                  0.0          ...             \n",
       "2          0                  0.0          ...             \n",
       "3          0                  0.0          ...             \n",
       "4          0                  0.0          ...             \n",
       "\n",
       "   position_Center Forward  position_Center Midfielder  \\\n",
       "0                      0.0                         0.0   \n",
       "1                      0.0                         0.0   \n",
       "2                      0.0                         0.0   \n",
       "3                      0.0                         1.0   \n",
       "4                      0.0                         0.0   \n",
       "\n",
       "   position_Defensive Midfielder  position_Goalkeeper  position_Left Fullback  \\\n",
       "0                            0.0                  0.0                     0.0   \n",
       "1                            0.0                  0.0                     0.0   \n",
       "2                            0.0                  0.0                     0.0   \n",
       "3                            0.0                  0.0                     0.0   \n",
       "4                            0.0                  0.0                     0.0   \n",
       "\n",
       "   position_Left Midfielder  position_Left Winger  position_Right Fullback  \\\n",
       "0                       0.0                   0.0                      0.0   \n",
       "1                       0.0                   0.0                      0.0   \n",
       "2                       0.0                   0.0                      0.0   \n",
       "3                       0.0                   0.0                      0.0   \n",
       "4                       0.0                   0.0                      0.0   \n",
       "\n",
       "   position_Right Midfielder  position_Right Winger  \n",
       "0                        0.0                    0.0  \n",
       "1                        0.0                    0.0  \n",
       "2                        1.0                    0.0  \n",
       "3                        0.0                    0.0  \n",
       "4                        0.0                    0.0  \n",
       "\n",
       "[5 rows x 116 columns]"
      ]
     },
     "execution_count": 40,
     "metadata": {},
     "output_type": "execute_result"
    }
   ],
   "source": [
    "# Convert categorical data to dummy variables\n",
    "df = pd.get_dummies(df, columns=['club', 'leagueCountry', 'position'])\n",
    "\n",
    "df.head(5)"
   ]
  },
  {
   "cell_type": "markdown",
   "metadata": {},
   "source": [
    "**Congratulations**, we are now ready to start to grow some trees and forests!"
   ]
  },
  {
   "cell_type": "markdown",
   "metadata": {},
   "source": [
    "## Supervised Machine Learning"
   ]
  },
  {
   "cell_type": "markdown",
   "metadata": {},
   "source": [
    "The goal of this part is to be able to predict a player skin color with a `RandomForestClassifer` model using `scikit-learn`.\n",
    "\n",
    "We first a naive `RandomForestClassifier`, by training and testing the model on the same data : "
   ]
  },
  {
   "cell_type": "code",
   "execution_count": 41,
   "metadata": {
    "collapsed": false
   },
   "outputs": [
    {
     "name": "stdout",
     "output_type": "stream",
     "text": [
      "Accuracy for raw model : 98.23695345557122 %.\n"
     ]
    }
   ],
   "source": [
    "from sklearn.ensemble import RandomForestClassifier\n",
    "from sklearn import metrics\n",
    "\n",
    "# Define the data and the labels\n",
    "dataset = df.drop(['skinColor'], axis = 1)\n",
    "labels = df['skinColor']\n",
    "\n",
    "# Instantiate the model\n",
    "rfc = RandomForestClassifier()\n",
    "\n",
    "# Fit with the data\n",
    "rfc.fit(dataset, labels)\n",
    "\n",
    "# Test the model\n",
    "y_pred = rfc.predict(dataset)\n",
    "\n",
    "print('Accuracy for raw model : {} %.'.format(metrics.accuracy_score(labels, y_pred) * 100))"
   ]
  },
  {
   "cell_type": "markdown",
   "metadata": {},
   "source": [
    "As we can see, it seems really accurate, this is due to overfitting, let's play with the `RandomForestClassifier` parameters (we choose to not use the `GridSearchCV` class, given it uses cross-validation, and we are not interested in cross-validation for now): "
   ]
  },
  {
   "cell_type": "code",
   "execution_count": 42,
   "metadata": {
    "collapsed": false
   },
   "outputs": [
    {
     "name": "stdout",
     "output_type": "stream",
     "text": [
      "max_feature : sqrt, max_depth : 10, min_samples_split : 2.\n",
      "--- Accuracy : 82.36953455571228 %.\n",
      "max_feature : sqrt, max_depth : 10, min_samples_split : 4.\n",
      "--- Accuracy : 81.24118476727786 %.\n",
      "max_feature : sqrt, max_depth : 10, min_samples_split : 6.\n",
      "--- Accuracy : 81.5937940761636 %.\n",
      "max_feature : sqrt, max_depth : 100, min_samples_split : 2.\n",
      "--- Accuracy : 97.24964739069112 %.\n",
      "max_feature : sqrt, max_depth : 100, min_samples_split : 4.\n",
      "--- Accuracy : 95.27503526093088 %.\n",
      "max_feature : sqrt, max_depth : 100, min_samples_split : 6.\n",
      "--- Accuracy : 93.44146685472496 %.\n",
      "max_feature : sqrt, max_depth : 1000, min_samples_split : 2.\n",
      "--- Accuracy : 97.53173483779972 %.\n",
      "max_feature : sqrt, max_depth : 1000, min_samples_split : 4.\n",
      "--- Accuracy : 96.262341325811 %.\n",
      "max_feature : sqrt, max_depth : 1000, min_samples_split : 6.\n",
      "--- Accuracy : 93.65303244005642 %.\n",
      "max_feature : log2, max_depth : 10, min_samples_split : 2.\n",
      "--- Accuracy : 80.25387870239774 %.\n",
      "max_feature : log2, max_depth : 10, min_samples_split : 4.\n",
      "--- Accuracy : 78.63187588152327 %.\n",
      "max_feature : log2, max_depth : 10, min_samples_split : 6.\n",
      "--- Accuracy : 79.47813822284908 %.\n",
      "max_feature : log2, max_depth : 100, min_samples_split : 2.\n",
      "--- Accuracy : 97.88434414668548 %.\n",
      "max_feature : log2, max_depth : 100, min_samples_split : 4.\n",
      "--- Accuracy : 94.35825105782793 %.\n",
      "max_feature : log2, max_depth : 100, min_samples_split : 6.\n",
      "--- Accuracy : 92.59520451339915 %.\n",
      "max_feature : log2, max_depth : 1000, min_samples_split : 2.\n",
      "--- Accuracy : 97.24964739069112 %.\n",
      "max_feature : log2, max_depth : 1000, min_samples_split : 4.\n",
      "--- Accuracy : 95.76868829337094 %.\n",
      "max_feature : log2, max_depth : 1000, min_samples_split : 6.\n",
      "--- Accuracy : 93.22990126939351 %.\n",
      "max_feature : None, max_depth : 10, min_samples_split : 2.\n",
      "--- Accuracy : 90.40902679830748 %.\n",
      "max_feature : None, max_depth : 10, min_samples_split : 4.\n",
      "--- Accuracy : 89.98589562764458 %.\n",
      "max_feature : None, max_depth : 10, min_samples_split : 6.\n",
      "--- Accuracy : 89.91537376586743 %.\n",
      "max_feature : None, max_depth : 100, min_samples_split : 2.\n",
      "--- Accuracy : 97.53173483779972 %.\n",
      "max_feature : None, max_depth : 100, min_samples_split : 4.\n",
      "--- Accuracy : 97.32016925246828 %.\n",
      "max_feature : None, max_depth : 100, min_samples_split : 6.\n",
      "--- Accuracy : 95.34555712270803 %.\n",
      "max_feature : None, max_depth : 1000, min_samples_split : 2.\n",
      "--- Accuracy : 97.67277856135402 %.\n",
      "max_feature : None, max_depth : 1000, min_samples_split : 4.\n",
      "--- Accuracy : 96.33286318758815 %.\n",
      "max_feature : None, max_depth : 1000, min_samples_split : 6.\n",
      "--- Accuracy : 96.12129760225669 %.\n"
     ]
    }
   ],
   "source": [
    "# Define parameters for the model\n",
    "max_features = ['sqrt', 'log2', None]\n",
    "max_depth = [10, 100, 1000]\n",
    "min_samples_split = [2, 4, 6]\n",
    "\n",
    "for i in max_features:\n",
    "    for j in max_depth:\n",
    "        for k in min_samples_split:\n",
    "            print('max_feature : {}, max_depth : {}, min_samples_split : {}.'.format(i, j, k))\n",
    "            \n",
    "            rfc = RandomForestClassifier(max_features=i, max_depth=j, min_samples_split=k)\n",
    "            rfc.fit(dataset, labels)\n",
    "            y_pred = rfc.predict(dataset)\n",
    "\n",
    "            print('--- Accuracy : {} %.'.format(metrics.accuracy_score(labels, y_pred) * 100))\n",
    "         "
   ]
  },
  {
   "cell_type": "markdown",
   "metadata": {},
   "source": [
    "We can mainly see that overfitting is limited by the maximum depth of the tree.\n",
    "\n",
    "Let's perform cross-validation in order to limit more carefully overfitting : "
   ]
  },
  {
   "cell_type": "code",
   "execution_count": 43,
   "metadata": {
    "collapsed": false
   },
   "outputs": [
    {
     "data": {
      "image/png": "[encoded data removed]",
      "text/plain": [
       "<matplotlib.figure.Figure at 0x119868fd0>"
      ]
     },
     "metadata": {},
     "output_type": "display_data"
    }
   ],
   "source": [
    "from sklearn.cross_validation import cross_val_score\n",
    "\n",
    "rfc = RandomForestClassifier()\n",
    "\n",
    "# Perform the cross validation with 10 different combinations\n",
    "acc = cross_val_score(rfc, dataset, labels, cv=10, scoring='accuracy')\n",
    "\n",
    "fig, ax = plt.subplots()\n",
    "\n",
    "ax.bar(left=np.arange(10), height=acc)\n",
    "ax.set_title('Accuracy with cross validation')\n",
    "ax.set_xlabel('Sample')\n",
    "ax.set_ylabel('Accuracy')\n",
    "\n",
    "plt.show()"
   ]
  },
  {
   "cell_type": "markdown",
   "metadata": {},
   "source": [
    "That seems quite satisfying."
   ]
  },
  {
   "cell_type": "markdown",
   "metadata": {},
   "source": [
    "**What are the most important features ?**"
   ]
  },
  {
   "cell_type": "code",
   "execution_count": 44,
   "metadata": {
    "collapsed": false
   },
   "outputs": [
    {
     "data": {
      "image/png": "[encoded data removed]",
      "text/plain": [
       "<matplotlib.figure.Figure at 0x114dab630>"
      ]
     },
     "metadata": {},
     "output_type": "display_data"
    }
   ],
   "source": [
    "# Instantiate the model\n",
    "rfc = RandomForestClassifier()\n",
    "\n",
    "# Fit with the data\n",
    "rfc.fit(dataset, labels)\n",
    "\n",
    "fig, ax = plt.subplots()\n",
    "ax.bar(left=np.arange(len(rfc.feature_importances_)), height=rfc.feature_importances_)\n",
    "ax.set_title('Features importances')\n",
    "ax.set_xlabel('Feature index')\n",
    "ax.set_ylabel('Importance')\n",
    "plt.show()"
   ]
  },
  {
   "cell_type": "markdown",
   "metadata": {},
   "source": [
    "Clearly, the most important features are the first 8, let's take a closer look : "
   ]
  },
  {
   "cell_type": "code",
   "execution_count": 46,
   "metadata": {
    "collapsed": false
   },
   "outputs": [
    {
     "data": {
      "image/png": "[encoded data removed]",
      "text/plain": [
       "<matplotlib.figure.Figure at 0x114ae70f0>"
      ]
     },
     "metadata": {},
     "output_type": "display_data"
    }
   ],
   "source": [
    "importances = rfc.feature_importances_[:8]\n",
    "names = list(df.columns[:8])\n",
    "\n",
    "fig, ax = plt.subplots()\n",
    "ax.bar(left=np.arange(len(importances)), height=importances)\n",
    "ax.set_title('Features importances')\n",
    "ax.set_xlabel('Feature index')\n",
    "ax.set_ylabel('Importance')\n",
    "ax.set_xticklabels(names, rotation='vertical', ha='center')\n",
    "ax.set_xticks(np.arange(len(importances)))\n",
    "plt.show()"
   ]
  },
  {
   "cell_type": "markdown",
   "metadata": {},
   "source": [
    "It's not surprising to see that the most useful features are the ones about the players stats, and not the club, country etc..."
   ]
  },
  {
   "cell_type": "markdown",
   "metadata": {},
   "source": [
    "## Unsupervised Machine Learning"
   ]
  }
 ],
 "metadata": {
  "kernelspec": {
   "display_name": "Python 3",
   "language": "python",
   "name": "python3"
  },
  "language_info": {
   "codemirror_mode": {
    "name": "ipython",
    "version": 3
   },
   "file_extension": ".py",
   "mimetype": "text/x-python",
   "name": "python",
   "nbconvert_exporter": "python",
   "pygments_lexer": "ipython3",
   "version": "3.5.2"
  }
 },
 "nbformat": 4,
 "nbformat_minor": 1
}
